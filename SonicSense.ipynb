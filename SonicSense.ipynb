{
  "nbformat": 4,
  "nbformat_minor": 0,
  "metadata": {
    "colab": {
      "provenance": [],
      "name": "SonicSense.ipynb",
      "authorship_tag": "ABX9TyPUWEgqbXXR2qlu3+vCDzVG",
      "include_colab_link": true
    },
    "kernelspec": {
      "name": "python3",
      "display_name": "Python 3"
    },
    "language_info": {
      "name": "python"
    }
  },
  "cells": [
    {
      "cell_type": "markdown",
      "metadata": {
        "id": "view-in-github",
        "colab_type": "text"
      },
      "source": [
        "<a href=\"https://colab.research.google.com/github/Raph33AI/SonicSense-AI/blob/main/SonicSense.ipynb\" target=\"_parent\"><img src=\"https://colab.research.google.com/assets/colab-badge.svg\" alt=\"Open In Colab\"/></a>"
      ]
    },
    {
      "cell_type": "markdown",
      "source": [],
      "metadata": {
        "id": "5ara9VMyWb1_"
      }
    },
    {
      "cell_type": "code",
      "source": [
        "\n",
        "import requests\n",
        "from bs4 import BeautifulSoup\n",
        "\n",
        "url = \"https://charts.spotify.com/viral/global/weekly/latest\"\n",
        "response = requests.get(url)\n",
        "soup = BeautifulSoup(response.content, 'html.parser')\n",
        "\n",
        "trending_titles = []\n",
        "for track_row in soup.select(\"table tbody tr\"):\n",
        "    title_element = track_row.find(\"td\", class_=\"chart-table-track\").find(\"strong\")\n",
        "    if title_element:\n",
        "        title = title_element.text.strip()\n",
        "        trending_titles.append(title)\n",
        "\n",
        "print(\"The 100 most trending titles on Spotify this week:\")\n",
        "for i, title in enumerate(trending_titles):\n",
        "    print(f\"{i+1}. {title}\")\n"
      ],
      "metadata": {
        "id": "EHN9VAUMQzN3",
        "outputId": "e5cf7de7-8f7e-4be7-ee3c-006b31564f2a",
        "colab": {
          "base_uri": "https://localhost:8080/"
        }
      },
      "execution_count": 19,
      "outputs": [
        {
          "output_type": "stream",
          "name": "stdout",
          "text": [
            "The 100 most trending titles on Spotify this week:\n"
          ]
        }
      ]
    },
    {
      "cell_type": "code",
      "source": [
        "\n",
        "import requests\n",
        "import base64\n",
        "import random\n",
        "\n",
        "# Vos identifiants d'application\n",
        "CLIENT_ID = \"dffbe0f471154691b105df32348a2378\"\n",
        "CLIENT_SECRET = \"cd114e5ad1654451a84a1d3b9e32c7ee\"\n",
        "\n",
        "# Fonction pour obtenir l'access token Spotify\n",
        "def get_access_token():\n",
        "    auth_string = f\"{CLIENT_ID}:{CLIENT_SECRET}\"\n",
        "    auth_bytes = auth_string.encode(\"utf-8\")\n",
        "    auth_base64 = str(base64.b64encode(auth_bytes), \"utf-8\")\n",
        "\n",
        "    token_url = \"https://accounts.spotify.com/api/token\"\n",
        "    token_data = {\n",
        "        \"grant_type\": \"client_credentials\"\n",
        "    }\n",
        "    token_headers = {\n",
        "        \"Authorization\": f\"Basic {auth_base64}\"\n",
        "    }\n",
        "\n",
        "    token_response = requests.post(token_url, data=token_data, headers=token_headers)\n",
        "\n",
        "    if token_response.status_code == 200:\n",
        "        return token_response.json()[\"access_token\"]\n",
        "    else:\n",
        "        print(f\"Erreur lors de la récupération du token: {token_response.status_code}\")\n",
        "        return None\n",
        "\n",
        "# Obtenir l'access token\n",
        "ACCESS_TOKEN = get_access_token()\n",
        "\n",
        "if ACCESS_TOKEN:\n",
        "    headers = {\n",
        "        \"Authorization\": f\"Bearer {ACCESS_TOKEN}\"\n",
        "    }\n",
        "\n",
        "    genre_demandé = input(\"Entrez un genre musical : \")\n",
        "\n",
        "    # Définir un offset aléatoire (par exemple, entre 0 et 100)\n",
        "    offset_aleatoire = random.randint(0, 100)\n",
        "\n",
        "    search_url = \"https://api.spotify.com/v1/search\"\n",
        "    search_params = {\n",
        "        \"q\": f\"genre:{genre_demandé}\",\n",
        "        \"type\": \"track\",\n",
        "        \"limit\": 5,  # Limite à 5 résultats\n",
        "        \"offset\": offset_aleatoire  # Ajoute l'offset aléatoire\n",
        "    }\n",
        "    search_response = requests.get(search_url, headers=headers, params=search_params)\n",
        "\n",
        "    if search_response.status_code == 200:\n",
        "        search_data = search_response.json()\n",
        "        tracks = search_data[\"tracks\"][\"items\"]\n",
        "\n",
        "        print(\"Artiste - Album - Date - Tempo - Danceability - Energy - Valence - Lien\")\n",
        "        print(\"---------------------------------------------------------------------\")\n",
        "\n",
        "        for track in tracks:\n",
        "            artists = \", \".join([artist[\"name\"] for artist in track[\"artists\"]])\n",
        "            album = track[\"album\"][\"name\"]\n",
        "            release_date = track[\"album\"][\"release_date\"]\n",
        "            track_id = track['id']\n",
        "\n",
        "            audio_features_url = f\"https://api.spotify.com/v1/audio-features/{track_id}\"\n",
        "            audio_features_response = requests.get(audio_features_url, headers=headers)\n",
        "\n",
        "            if audio_features_response.status_code == 200:\n",
        "                audio_features = audio_features_response.json()\n",
        "                tempo = audio_features.get(\"tempo\", \"N/A\")\n",
        "                danceability = audio_features.get(\"danceability\", \"N/A\")\n",
        "                energy = audio_features.get(\"energy\", \"N/A\")\n",
        "                valence = audio_features.get(\"valence\", \"N/A\")\n",
        "\n",
        "                print(\n",
        "                    f\"{artists} - {album} - {release_date} - \"\n",
        "                    f\"{tempo:.2f} BPM - {danceability:.2f} - \"\n",
        "                    f\"{energy:.2f} - {valence:.2f} - \"\n",
        "                    f\"{track['external_urls']['spotify']}\"\n",
        "                )\n",
        "            else:\n",
        "                print(f\"Erreur lors de la récupération des caractéristiques audio : {audio_features_response.status_code}\")\n",
        "    else:\n",
        "        print(f\"Erreur lors de la recherche de morceaux : {search_response.status_code}\")\n",
        "\n"
      ],
      "metadata": {
        "colab": {
          "base_uri": "https://localhost:8080/"
        },
        "id": "UTkkZHdUWbTO",
        "outputId": "f905538c-7117-454f-dd95-6285025f64c3"
      },
      "execution_count": 24,
      "outputs": [
        {
          "output_type": "stream",
          "name": "stdout",
          "text": [
            "Entrez un genre musical : rap\n",
            "Artiste - Album - Date - Tempo - Danceability - Energy - Valence - Lien\n",
            "---------------------------------------------------------------------\n",
            "Travis Scott - HIGHEST IN THE ROOM - 2019-10-04 - 76.47 BPM - 0.60 - 0.43 - 0.06 - https://open.spotify.com/track/3eekarcy7kvN4yt5ZFzltW\n",
            "$uicideboy$ - Antarctica - 2016-01-26 - 105.94 BPM - 0.71 - 0.63 - 0.32 - https://open.spotify.com/track/5UGAXwbA17bUC0K9uquGY2\n",
            "Drake - No Face - 2024-08-31 - 125.95 BPM - 0.85 - 0.69 - 0.47 - https://open.spotify.com/track/1560osUcXrnov6yuOjXvc1\n",
            "J. Cole - Cole World: The Sideline Story - 2011-09-27 - 93.00 BPM - 0.83 - 0.43 - 0.22 - https://open.spotify.com/track/2wAJTrFhCnQyNSD3oUgTZO\n",
            "Post Malone, Luke Combs - F-1 Trillion - 2024-08-15 - 119.99 BPM - 0.61 - 0.91 - 0.49 - https://open.spotify.com/track/6StwwqB84sJeLr7tZDTxEX\n"
          ]
        }
      ]
    }
  ]
}